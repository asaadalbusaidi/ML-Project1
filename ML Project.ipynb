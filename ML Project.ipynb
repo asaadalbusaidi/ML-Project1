{
 "cells": [
  {
   "cell_type": "code",
   "execution_count": 1,
   "id": "c5d1003f",
   "metadata": {},
   "outputs": [],
   "source": [
    "import math\n",
    "import numpy as np\n",
    "import pandas as pd\n",
    "import seaborn as sns\n",
    "import plotly.express as px\n",
    "import matplotlib as mpl\n",
    "import matplotlib.pyplot as plt\n",
    "\n",
    "\n",
    "\n",
    "\n",
    "%matplotlib inline "
   ]
  },
  {
   "cell_type": "code",
   "execution_count": 3,
   "id": "48f90e01",
   "metadata": {},
   "outputs": [
    {
     "data": {
      "text/plain": [
       "(2580, 81)"
      ]
     },
     "execution_count": 3,
     "metadata": {},
     "output_type": "execute_result"
    }
   ],
   "source": [
    "housing = pd.read_csv('Ames_Housing_Price_Data.csv', index_col=0)\n",
    "housing.shape"
   ]
  },
  {
   "cell_type": "code",
   "execution_count": 3,
   "id": "ad0cb7d6",
   "metadata": {},
   "outputs": [
    {
     "name": "stderr",
     "output_type": "stream",
     "text": [
      "C:\\Users\\ask91\\AppData\\Local\\Temp\\ipykernel_31032\\2318822397.py:1: DtypeWarning: Columns (36,40,81,87) have mixed types. Specify dtype option on import or set low_memory=False.\n",
      "  Realestate = pd.read_csv('Ames_Real_Estate_Data.csv', index_col=0)\n"
     ]
    },
    {
     "data": {
      "text/plain": [
       "(22213, 90)"
      ]
     },
     "execution_count": 3,
     "metadata": {},
     "output_type": "execute_result"
    }
   ],
   "source": [
    "Realestate = pd.read_csv('Ames_Real_Estate_Data.csv', index_col=0)\n",
    "Realestate.shape"
   ]
  },
  {
   "cell_type": "code",
   "execution_count": 4,
   "id": "abd127cd",
   "metadata": {},
   "outputs": [
    {
     "ename": "NameError",
     "evalue": "name 'housinghousing' is not defined",
     "output_type": "error",
     "traceback": [
      "\u001b[1;31m---------------------------------------------------------------------------\u001b[0m",
      "\u001b[1;31mNameError\u001b[0m                                 Traceback (most recent call last)",
      "Input \u001b[1;32mIn [4]\u001b[0m, in \u001b[0;36m<cell line: 1>\u001b[1;34m()\u001b[0m\n\u001b[1;32m----> 1\u001b[0m \u001b[43mhousinghousing\u001b[49m\u001b[38;5;241m.\u001b[39mhead()\n",
      "\u001b[1;31mNameError\u001b[0m: name 'housinghousing' is not defined"
     ]
    }
   ],
   "source": [
    "housinghousing.head()"
   ]
  },
  {
   "cell_type": "code",
   "execution_count": null,
   "id": "b7cdc130",
   "metadata": {},
   "outputs": [],
   "source": [
    "housing.describe()"
   ]
  },
  {
   "cell_type": "code",
   "execution_count": null,
   "id": "927f2ca9",
   "metadata": {},
   "outputs": [],
   "source": [
    "housing.columns"
   ]
  },
  {
   "cell_type": "code",
   "execution_count": null,
   "id": "5d01a571",
   "metadata": {},
   "outputs": [],
   "source": [
    "\n",
    "housing.info()"
   ]
  },
  {
   "cell_type": "code",
   "execution_count": null,
   "id": "d930cd07",
   "metadata": {},
   "outputs": [],
   "source": [
    "# Getting the numerical features out of the dataset\n",
    "\n",
    "print(f\"The total number of numerical features is :\",  {len(housing.select_dtypes(exclude='object').columns)},\"\\n\" ,\n",
    "      housing.select_dtypes(exclude='object').columns)"
   ]
  },
  {
   "cell_type": "markdown",
   "id": "f646fe13",
   "metadata": {},
   "source": [
    "# Normality Check"
   ]
  },
  {
   "cell_type": "code",
   "execution_count": null,
   "id": "7baa61c0",
   "metadata": {},
   "outputs": [],
   "source": [
    "sns.pairplot(housing)"
   ]
  },
  {
   "cell_type": "code",
   "execution_count": null,
   "id": "9fea0ead",
   "metadata": {},
   "outputs": [],
   "source": [
    "plt.hist(housing['SalePrice'],edgecolor='black')"
   ]
  },
  {
   "cell_type": "code",
   "execution_count": null,
   "id": "da9f7178",
   "metadata": {},
   "outputs": [],
   "source": [
    "# Calculate natural logarithm on\n",
    "\n",
    "natural_log = np.log(housing['SalePrice'])\n",
    "\n",
    "plt.hist(natural_log,edgecolor='black')\n"
   ]
  },
  {
   "cell_type": "code",
   "execution_count": null,
   "id": "75b22511",
   "metadata": {},
   "outputs": [],
   "source": [
    "sqrt_housing = np.sqrt(housing['SalePrice'])\n",
    "\n",
    "plt.hist(sqrt_housing,edgecolor='black')\n"
   ]
  },
  {
   "cell_type": "code",
   "execution_count": null,
   "id": "7dbdb3c5",
   "metadata": {},
   "outputs": [],
   "source": []
  },
  {
   "cell_type": "code",
   "execution_count": null,
   "id": "1fd0380a",
   "metadata": {},
   "outputs": [],
   "source": [
    "\n",
    "# dropping ID column\n",
    "\n",
    "housing.drop(columns=['PID'], inplace=True)"
   ]
  },
  {
   "cell_type": "code",
   "execution_count": null,
   "id": "31035fd6",
   "metadata": {},
   "outputs": [],
   "source": [
    "# missing Values\n",
    "\n",
    "# show only the count of columns with null values\n",
    "\n",
    "columns_NA = housing.isna().sum()[housing.isna().sum() !=0].sort_values(ascending=False)\n",
    "\n",
    "print('Columns with missing values:', len(columns_NA))\n",
    "\n",
    "columns_NA\n"
   ]
  },
  {
   "cell_type": "code",
   "execution_count": null,
   "id": "7c75cd1a",
   "metadata": {},
   "outputs": [],
   "source": [
    "# check correlation of missing values columns to price\n",
    "\n",
    "\n",
    "corr_col = list(columns_NA.index)\n",
    "corr_col.append('SalePrice')\n",
    "housing[corr_col].corr()"
   ]
  },
  {
   "cell_type": "code",
   "execution_count": null,
   "id": "a9eee0b9",
   "metadata": {},
   "outputs": [],
   "source": [
    "# Delete Columns with Negative Correlations\n",
    "\n",
    "#housing.drop(columns=['BsmtHalfBath'], inplace=True)\n",
    "\n",
    "\n",
    "\n",
    "# Delete top 5 columns with missing values\n",
    "\n",
    "#housing.drop(columns=['PoolQC', 'MiscFeature', 'Alley', 'Fence','FireplaceQu'], inplace=True)\n",
    "\n",
    "# Remove Columns with small correlation\n",
    "\n",
    "#housing.drop(columns=['BsmtUnfSF','BsmtFinSF1','BsmtFinSF2','BsmtFullBath','LotFrontage','GarageYrBlt'], inplace=True)"
   ]
  },
  {
   "cell_type": "code",
   "execution_count": null,
   "id": "715d82ca",
   "metadata": {},
   "outputs": [],
   "source": [
    "# Fill the rest of Null. Columns with best fill based on Discription File\n",
    "\n",
    "\n",
    "\n",
    "housing['MasVnrType'].fillna('None', inplace=True)\n",
    "\n",
    "\n",
    "for i in ['GarageType', 'GarageFinish', 'BsmtFinType2', 'BsmtExposure', 'BsmtFinType1']:\n",
    "    housing[i].fillna('NA', inplace=True)\n",
    "\n",
    "# Replacing small number of null value with most common value in column\n",
    "\n",
    "housing['Electrical'].fillna(housing['Electrical'].value_counts().idxmax(), inplace=True)\n",
    "housing['MasVnrArea'].fillna(housing['MasVnrArea'].value_counts().idxmax(), inplace=True)\n",
    "housing['GarageCars'].fillna(housing['GarageCars'].value_counts().idxmax(), inplace=True)\n",
    "housing['GarageArea'].fillna(housing['GarageArea'].value_counts().idxmax(), inplace=True)\n",
    "housing['TotalBsmtSF'].fillna(housing['TotalBsmtSF'].value_counts().idxmax(), inplace=True)\n",
    "\n",
    "# From the Data description File we see the following columns has the same values.\n",
    "# Columns FireplaceQu ,BsmtQual,ExterQual ,ExterCond ,HeatingQC,BsmtCond ,GarageQual ,KitchenQual , GarageCond \n",
    "# they have the same values to decribe them :\n",
    "\n",
    "# Ex\tExcellent\n",
    "# Gd\tGood\n",
    "# TA\tTypical/Average\n",
    "# Fa\tFair\n",
    "# Po\tPoor\n",
    "# NA\tNo Garage\n",
    "\n",
    "\n",
    "# so we replace the cahr values with numerical and NA with 0\n",
    "\n",
    "\n",
    "housing['BsmtQual'].replace({'Po': 1, 'Fa': 2, 'TA': 3, 'Gd': 4, 'Ex': 5}, inplace=True)\n",
    "housing['BsmtQual'].fillna(0, inplace=True)\n",
    "\n",
    "housing['ExterQual'].replace({'Po': 1, 'Fa': 2, 'TA': 3, 'Gd': 4, 'Ex': 5}, inplace=True)\n",
    "housing['ExterQual'].fillna(0, inplace=True)\n",
    "\n",
    "housing['ExterCond'].replace({'Po': 1, 'Fa': 2, 'TA': 3, 'Gd': 4, 'Ex': 5}, inplace=True)\n",
    "housing['ExterCond'].fillna(0, inplace=True)\n",
    "\n",
    "housing['HeatingQC'].replace({'Po': 1, 'Fa': 2, 'TA': 3, 'Gd': 4, 'Ex': 5}, inplace=True)\n",
    "housing['HeatingQC'].fillna(0, inplace=True)\n",
    "\n",
    "housing['BsmtCond'].replace({'Po': 1, 'Fa': 2, 'TA': 3, 'Gd': 4, 'Ex': 5}, inplace=True)\n",
    "housing['BsmtCond'].fillna(0, inplace=True)\n",
    "\n",
    "housing['GarageQual'].replace({'Po': 1, 'Fa': 2, 'TA': 3, 'Gd': 4, 'Ex': 5}, inplace=True)\n",
    "housing['GarageQual'].fillna(0, inplace=True)\n",
    "\n",
    "housing['KitchenQual'].replace({'Po': 1, 'Fa': 2, 'TA': 3, 'Gd': 4, 'Ex': 5}, inplace=True)\n",
    "housing['KitchenQual'].fillna(0, inplace=True)\n",
    "\n",
    "housing['GarageCond'].replace({'Po': 1, 'Fa': 2, 'TA': 3, 'Gd': 4, 'Ex': 5}, inplace=True)\n",
    "housing['GarageCond'].fillna(0, inplace=True)"
   ]
  },
  {
   "cell_type": "code",
   "execution_count": null,
   "id": "28024705",
   "metadata": {},
   "outputs": [],
   "source": [
    "columns_NA = housing.isna().sum()[housing.isna().sum() !=0].sort_values(ascending=False)\n",
    "\n",
    "print('Columns with missing values:', len(columns_NA))\n",
    "\n",
    "columns_NA"
   ]
  },
  {
   "cell_type": "code",
   "execution_count": null,
   "id": "71d95ac3",
   "metadata": {},
   "outputs": [],
   "source": [
    "print(\"New Data set shape is : \",housing.shape)\n",
    "print(\"\\n\\n\")\n",
    "\n",
    "\n",
    "housing.info()"
   ]
  },
  {
   "cell_type": "code",
   "execution_count": 2,
   "id": "76b3676a",
   "metadata": {},
   "outputs": [
    {
     "ename": "NameError",
     "evalue": "name 'housing' is not defined",
     "output_type": "error",
     "traceback": [
      "\u001b[1;31m---------------------------------------------------------------------------\u001b[0m",
      "\u001b[1;31mNameError\u001b[0m                                 Traceback (most recent call last)",
      "Input \u001b[1;32mIn [2]\u001b[0m, in \u001b[0;36m<cell line: 3>\u001b[1;34m()\u001b[0m\n\u001b[0;32m      1\u001b[0m \u001b[38;5;66;03m# Save new cleaned data\u001b[39;00m\n\u001b[1;32m----> 3\u001b[0m \u001b[43mhousing\u001b[49m\u001b[38;5;241m.\u001b[39mto_csv(\u001b[38;5;124m'\u001b[39m\u001b[38;5;124mHousing_cleaned.csv\u001b[39m\u001b[38;5;124m'\u001b[39m)\n",
      "\u001b[1;31mNameError\u001b[0m: name 'housing' is not defined"
     ]
    }
   ],
   "source": [
    "# Save new cleaned data\n",
    "\n",
    "housing.to_csv('Housing_cleaned.csv')"
   ]
  },
  {
   "cell_type": "code",
   "execution_count": 4,
   "id": "9bec208a",
   "metadata": {},
   "outputs": [],
   "source": [
    "housing_cleaned = pd.read_csv('Housing_cleaned.csv', index_col=0)\n",
    "housing = pd.read_csv('Housing_cleaned.csv', index_col=0)"
   ]
  },
  {
   "cell_type": "code",
   "execution_count": null,
   "id": "04b28445",
   "metadata": {},
   "outputs": [],
   "source": [
    "1housing.shape"
   ]
  },
  {
   "cell_type": "code",
   "execution_count": null,
   "id": "0a85b878",
   "metadata": {},
   "outputs": [],
   "source": [
    "housing.duplicated().sum()"
   ]
  },
  {
   "cell_type": "code",
   "execution_count": null,
   "id": "cbf27d74",
   "metadata": {},
   "outputs": [],
   "source": [
    "# Selecting duplicate rows except first\n",
    "# occurrence based on all columns\n",
    "duplicateRows = housing_cleaned[housing_cleaned.duplicated()]\n",
    " \n",
    "# Print the resultant Dataframe\n",
    "duplicateRows"
   ]
  },
  {
   "cell_type": "code",
   "execution_count": null,
   "id": "01c0071c",
   "metadata": {
    "scrolled": true
   },
   "outputs": [],
   "source": [
    "housing_cleaned.drop_duplicates(keep='first')"
   ]
  },
  {
   "cell_type": "code",
   "execution_count": null,
   "id": "285fd63f",
   "metadata": {},
   "outputs": [],
   "source": [
    "Realestate.head()\n"
   ]
  },
  {
   "cell_type": "code",
   "execution_count": null,
   "id": "435223f5",
   "metadata": {},
   "outputs": [],
   "source": [
    "Realestate.columns\n",
    "Realestate.shape"
   ]
  },
  {
   "cell_type": "code",
   "execution_count": null,
   "id": "db40459c",
   "metadata": {},
   "outputs": [],
   "source": [
    "Realestate.info()"
   ]
  },
  {
   "cell_type": "code",
   "execution_count": null,
   "id": "2e8a2290",
   "metadata": {},
   "outputs": [],
   "source": [
    "Columns_NaN = Realestate.isna().sum()[Realestate.isna().sum() !=0].sort_values(ascending=False)\n",
    "\n",
    "print('Columns with missing values:', len(Columns_NaN))\n",
    "\n",
    "Columns_NaN"
   ]
  },
  {
   "cell_type": "code",
   "execution_count": null,
   "id": "b848d875",
   "metadata": {},
   "outputs": [],
   "source": [
    "# \n",
    "Realestate.shape\n"
   ]
  },
  {
   "cell_type": "code",
   "execution_count": null,
   "id": "2b0d1ac8",
   "metadata": {},
   "outputs": [],
   "source": [
    "Realestate.duplicated().sum()"
   ]
  },
  {
   "cell_type": "code",
   "execution_count": null,
   "id": "21781cab",
   "metadata": {},
   "outputs": [],
   "source": []
  },
  {
   "cell_type": "markdown",
   "id": "dac675c0",
   "metadata": {},
   "source": [
    "## Visualizations "
   ]
  },
  {
   "cell_type": "code",
   "execution_count": null,
   "id": "9b24f888",
   "metadata": {},
   "outputs": [],
   "source": [
    "#Sales Price of Houses in different Neighborhood \n",
    "px.box(housing.sort_values(by=['SalePrice'],ascending=False),\n",
    "       x='Neighborhood',y='SalePrice',\n",
    "       color='Neighborhood',\n",
    "       title='<b> Sales Price of Houses in different Neighborhood')\n",
    "\n"
   ]
  },
  {
   "cell_type": "code",
   "execution_count": null,
   "id": "8a30a12b",
   "metadata": {},
   "outputs": [],
   "source": [
    "#Number of houses in each Neighborhoods\n",
    "px.pie(housing_cleaned.groupby('Neighborhood',as_index=False)['Neighborhood'].count(),\n",
    "       values='Neighborhood',names='Neighborhood',labels={'Neighborhood':'Count'}\n",
    "       ,color_discrete_sequence=px.colors.sequential.Plasma,\n",
    "       hole=.5,title='<b> Houses Count in different Neighborhoods of IOWA</b>'\n",
    "      )\n"
   ]
  },
  {
   "cell_type": "code",
   "execution_count": null,
   "id": "ce8da4fe",
   "metadata": {
    "scrolled": true
   },
   "outputs": [],
   "source": [
    "# Features with hight correlation only columns with correlation > 0.5\n",
    "\n",
    "SalesCor = housing.corr()['SalePrice'].sort_values(ascending= False)\n",
    "\n",
    "hight_correlation=housing[SalesCor[SalesCor.values > 0.45].index]\n",
    "\n",
    "\n",
    "corr=hight_correlation.corr()\n",
    "f, ax=plt.subplots(figsize=(15,8))\n",
    "sns.heatmap(corr, annot = True, fmt = '.2f')"
   ]
  },
  {
   "cell_type": "code",
   "execution_count": null,
   "id": "ebbcdc2d",
   "metadata": {},
   "outputs": [],
   "source": [
    "plt.figure(figsize=(15, 10))\n",
    "\n",
    "fig = px.box(housing, x=\"OverallQual\", y=\"SalePrice\",color = 'OverallQual')\n",
    "fig.update_layout(\n",
    "    title=\"House Price by Overall Quality\",\n",
    "    xaxis_title=\"Quality\",\n",
    "    yaxis_title=\"Price ($)\",\n",
    "    legend_title=\"Legend Title\",\n",
    "    showlegend=False,\n",
    "     xaxis = dict(\n",
    "        tickmode = 'linear',\n",
    "        tick0 = 1,\n",
    "        dtick = 1\n",
    "    )\n",
    "    )\n",
    "\n",
    "\n",
    "\n",
    "\n",
    "fig.show()\n"
   ]
  },
  {
   "cell_type": "code",
   "execution_count": null,
   "id": "7119fcd2",
   "metadata": {},
   "outputs": [],
   "source": [
    "#sales price against Total Basment sliced by BsmtFinType1\n",
    "sns.lmplot(x='TotalBsmtSF', y='SalePrice', hue='BsmtFinType2',\n",
    "           data=housing, fit_reg=True,height=6, aspect=2)\n"
   ]
  },
  {
   "cell_type": "code",
   "execution_count": null,
   "id": "be98dc02",
   "metadata": {
    "scrolled": true
   },
   "outputs": [],
   "source": [
    "#sales price against Living Area sliced by Overall Quality\n",
    "sns.lmplot(x='GrLivArea', y='SalePrice', hue='OverallQual',\n",
    "           data=housing, fit_reg=False,height=6, aspect=2)\n",
    "\n"
   ]
  },
  {
   "cell_type": "code",
   "execution_count": null,
   "id": "85fb556e",
   "metadata": {},
   "outputs": [],
   "source": [
    "#sales price against Year Built sliced by BsmtFinType1\n",
    "sns.lmplot(x='YearBuilt', y='SalePrice', hue='SaleCondition',\n",
    "           data=housing, fit_reg=False,height=6, aspect=2)"
   ]
  },
  {
   "cell_type": "code",
   "execution_count": null,
   "id": "cff2f52a",
   "metadata": {},
   "outputs": [],
   "source": [
    "#sales price against Overall Condition \n",
    "fig,ax = plt.subplots(figsize=(14,6))\n",
    "sns.regplot(x = 'OverallCond', y='SalePrice' , data=housing)"
   ]
  },
  {
   "cell_type": "code",
   "execution_count": null,
   "id": "25744c75",
   "metadata": {},
   "outputs": [],
   "source": [
    "#sales price against Lot Area sliced by Eternal Quality\n",
    "sns.lmplot(x='LotArea', y='SalePrice', hue='ExterQual',\n",
    "           data=housing, fit_reg=False,height=6, aspect=2)\n"
   ]
  },
  {
   "cell_type": "code",
   "execution_count": null,
   "id": "1e7395d9",
   "metadata": {},
   "outputs": [],
   "source": [
    "#Sales price against Garage Area sliced by Garage Quality\n",
    "sns.lmplot(x='GarageArea', y='SalePrice', hue='GarageQual',\n",
    "           data=housing_cleaned, fit_reg=False,height=6, aspect=2)\n"
   ]
  },
  {
   "cell_type": "code",
   "execution_count": null,
   "id": "5fbe1280",
   "metadata": {},
   "outputs": [],
   "source": [
    "#Sale price vs HeatingQC  \n",
    "sns.factorplot(data=housing,x='HeatingQC',y='SalePrice',\n",
    "               hue='CentralAir',size=6,aspect=2,\n",
    "               estimator=np.mean)\n",
    "plt.title('HeatingQC vs SalePrce')"
   ]
  },
  {
   "cell_type": "code",
   "execution_count": null,
   "id": "1293603c",
   "metadata": {},
   "outputs": [],
   "source": [
    "px.box(housing,x='BedroomAbvGr',y='SalePrice'\n",
    "       #,color='Neighborhood'\n",
    "       ,\n",
    "       title='<b>Total Rooms Versus Sales Price of Houses')"
   ]
  },
  {
   "cell_type": "markdown",
   "id": "703b83fd",
   "metadata": {},
   "source": [
    "# ML Prediction"
   ]
  },
  {
   "cell_type": "code",
   "execution_count": 6,
   "id": "ef8a7216",
   "metadata": {},
   "outputs": [],
   "source": [
    "from datetime import datetime\n",
    "from scipy.stats import skew  # for some statistics\n",
    "from scipy.special import boxcox1p\n",
    "from scipy.stats import boxcox_normmax\n",
    "from sklearn.linear_model import ElasticNetCV, LassoCV, RidgeCV\n",
    "from sklearn.ensemble import GradientBoostingRegressor,GradientBoostingClassifier\n",
    "from sklearn.svm import SVR\n",
    "from sklearn.pipeline import make_pipeline\n",
    "from sklearn.preprocessing import RobustScaler\n",
    "from sklearn.model_selection import KFold, cross_val_score\n",
    "import matplotlib.pyplot as plt\n",
    "import scipy.stats as stats\n",
    "import sklearn.linear_model as linear_model\n",
    "import seaborn as sns\n",
    "from sklearn.manifold import TSNE\n",
    "from sklearn.cluster import KMeans\n",
    "from sklearn.decomposition import PCA\n",
    "from sklearn.preprocessing import StandardScaler\n",
    "from sklearn.metrics import r2_score, mean_squared_error\n",
    "from sklearn.linear_model import LinearRegression, Ridge, Lasso, ElasticNet, RidgeCV, LassoCV, ElasticNetCV\n",
    "from sklearn.linear_model import LogisticRegression\n",
    "from sklearn.metrics import confusion_matrix\n",
    "from sklearn.metrics import accuracy_score"
   ]
  },
  {
   "cell_type": "code",
   "execution_count": 7,
   "id": "9d28f780",
   "metadata": {},
   "outputs": [],
   "source": [
    "housing = pd.read_csv('Housing_cleaned.csv', index_col=0)"
   ]
  },
  {
   "cell_type": "code",
   "execution_count": 8,
   "id": "3d4c29d1",
   "metadata": {},
   "outputs": [],
   "source": [
    "housing = housing[housing.GrLivArea < 4500]"
   ]
  },
  {
   "cell_type": "code",
   "execution_count": 9,
   "id": "a21cce79",
   "metadata": {},
   "outputs": [],
   "source": [
    "housing = housing[housing.SalePrice < 500000]"
   ]
  },
  {
   "cell_type": "code",
   "execution_count": 10,
   "id": "2c028397",
   "metadata": {},
   "outputs": [],
   "source": [
    "\n",
    "#Independet Variables\n",
    "X = housing.drop(['SalePrice'], axis=1)\n",
    "#Target \n",
    "#y = housing_cleaned['SalePrice'].reset_index(drop=True)\n",
    "y = housing['SalePrice']\n"
   ]
  },
  {
   "cell_type": "code",
   "execution_count": 11,
   "id": "86701127",
   "metadata": {},
   "outputs": [
    {
     "name": "stdout",
     "output_type": "stream",
     "text": [
      "(2567, 79)\n",
      "(2567,)\n"
     ]
    }
   ],
   "source": [
    "print(X.shape)\n",
    "print(y.shape)"
   ]
  },
  {
   "cell_type": "code",
   "execution_count": 12,
   "id": "22a8f28a",
   "metadata": {},
   "outputs": [],
   "source": [
    "# Some of the non-numeric predictors are stored as numbers; we convert them into strings \n",
    "X['MSSubClass'] = X['MSSubClass'].apply(str)\n",
    "X['YrSold'] = X['YrSold'].astype(str)\n",
    "X['MoSold'] = X['MoSold'].astype(str)\n",
    "\n",
    "X['Functional'] = X['Functional'].fillna('Typ')\n",
    "X['Electrical'] = X['Electrical'].fillna(\"SBrkr\")\n",
    "X['KitchenQual'] = X['KitchenQual'].fillna(\"TA\")\n",
    "X['Exterior1st'] = X['Exterior1st'].fillna(X['Exterior1st'].mode()[0])\n",
    "X['Exterior2nd'] = X['Exterior2nd'].fillna(X['Exterior2nd'].mode()[0])\n",
    "X['SaleType'] = X['SaleType'].fillna(X['SaleType'].mode()[0])\n",
    "X[\"PoolQC\"] = X[\"PoolQC\"].fillna(\"None\")"
   ]
  },
  {
   "cell_type": "code",
   "execution_count": 13,
   "id": "aca35053",
   "metadata": {},
   "outputs": [],
   "source": [
    "for col in ('GarageYrBlt', 'GarageArea', 'GarageCars'):\n",
    "    X[col] = X[col].fillna(0)\n",
    "for col in ['GarageType', 'GarageFinish', 'GarageQual', 'GarageCond']:\n",
    "    X[col] = X[col].fillna('None')\n",
    "for col in ('BsmtQual', 'BsmtCond', 'BsmtExposure', 'BsmtFinType1', 'BsmtFinType2'):\n",
    "    X[col] = X[col].fillna('None')\n",
    "\n",
    "X['MSZoning'] = X.groupby('MSSubClass')['MSZoning'].transform(lambda x: x.fillna(x.mode()[0]))"
   ]
  },
  {
   "cell_type": "code",
   "execution_count": 14,
   "id": "e0cef3fc",
   "metadata": {},
   "outputs": [],
   "source": [
    "X = X.drop(['Utilities', 'Street', 'PoolQC',], axis=1)\n",
    "\n",
    "X['YrBltAndRemod']=X['YearBuilt']+X['YearRemodAdd']\n",
    "X['TotalSF']=X['TotalBsmtSF'] + X['1stFlrSF'] + X['2ndFlrSF']\n",
    "\n",
    "X['Total_sqr_footage'] = (X['BsmtFinSF1'] + X['BsmtFinSF2'] +\n",
    "                                 X['1stFlrSF'] + X['2ndFlrSF'])\n",
    "\n",
    "X['Total_Bathrooms'] = (X['FullBath'] + (0.5 * X['HalfBath']) +\n",
    "                               X['BsmtFullBath'] + (0.5 * X['BsmtHalfBath']))\n",
    "\n",
    "X['Total_porch_sf'] = (X['OpenPorchSF'] + X['3SsnPorch'] +\n",
    "                              X['EnclosedPorch'] + X['ScreenPorch'] +\n",
    "                              X['WoodDeckSF'])\n"
   ]
  },
  {
   "cell_type": "code",
   "execution_count": 15,
   "id": "d7fd6a90",
   "metadata": {},
   "outputs": [],
   "source": [
    "# simplified features\n",
    "X['haspool'] = X['PoolArea'].apply(lambda x: 1 if x > 0 else 0)\n",
    "X['has2ndfloor'] = X['2ndFlrSF'].apply(lambda x: 1 if x > 0 else 0)\n",
    "X['hasgarage'] = X['GarageArea'].apply(lambda x: 1 if x > 0 else 0)\n",
    "X['hasbsmt'] = X['TotalBsmtSF'].apply(lambda x: 1 if x > 0 else 0)\n",
    "X['hasfireplace'] = X['Fireplaces'].apply(lambda x: 1 if x > 0 else 0)"
   ]
  },
  {
   "cell_type": "code",
   "execution_count": 16,
   "id": "e68c25c6",
   "metadata": {},
   "outputs": [],
   "source": [
    "objects = []\n",
    "for i in X.columns:\n",
    "    if X[i].dtype == object:\n",
    "        objects.append(i)\n",
    "\n",
    "X.update(X[objects].fillna('None'))"
   ]
  },
  {
   "cell_type": "code",
   "execution_count": 17,
   "id": "3774ac6b",
   "metadata": {},
   "outputs": [],
   "source": [
    "# Filling in the rest of the NA's\n",
    "numeric_dtypes = ['int16', 'int32', 'int64', 'float16', 'float32', 'float64']\n",
    "numerics = []\n",
    "for i in X.columns:\n",
    "    if X[i].dtype in numeric_dtypes:\n",
    "        numerics.append(i)\n",
    "X.update(X[numerics].fillna(0))\n"
   ]
  },
  {
   "cell_type": "code",
   "execution_count": 18,
   "id": "5d49a41b",
   "metadata": {},
   "outputs": [],
   "source": [
    "numeric_dtypes = ['int16', 'int32', 'int64', 'float16', 'float32', 'float64']\n",
    "numerics2 = []\n",
    "for i in X.columns:\n",
    "    if X[i].dtype in numeric_dtypes:\n",
    "        numerics2.append(i)"
   ]
  },
  {
   "cell_type": "code",
   "execution_count": 19,
   "id": "72c5daac",
   "metadata": {},
   "outputs": [
    {
     "data": {
      "text/plain": [
       "(2567, 86)"
      ]
     },
     "execution_count": 19,
     "metadata": {},
     "output_type": "execute_result"
    }
   ],
   "source": [
    "X.shape"
   ]
  },
  {
   "cell_type": "code",
   "execution_count": 20,
   "id": "821ebbab",
   "metadata": {},
   "outputs": [
    {
     "data": {
      "text/plain": [
       "(2567, 306)"
      ]
     },
     "execution_count": 20,
     "metadata": {},
     "output_type": "execute_result"
    }
   ],
   "source": [
    "X = pd.get_dummies(X).reset_index(drop=True)\n",
    "X.shape\n"
   ]
  },
  {
   "cell_type": "code",
   "execution_count": 21,
   "id": "354233e0",
   "metadata": {},
   "outputs": [],
   "source": [
    "overfit = []\n",
    "for i in X.columns:\n",
    "    counts = X[i].value_counts()\n",
    "    zeros = counts.iloc[0]\n",
    "    if zeros / len(X) * 100 > 99.94:\n",
    "        overfit.append(i)\n",
    "\n",
    "overfit = list(overfit)\n",
    "X = X.drop(overfit, axis=1)"
   ]
  },
  {
   "cell_type": "code",
   "execution_count": 22,
   "id": "7434322a",
   "metadata": {},
   "outputs": [
    {
     "data": {
      "text/plain": [
       "(2567, 291)"
      ]
     },
     "execution_count": 22,
     "metadata": {},
     "output_type": "execute_result"
    }
   ],
   "source": [
    "X.shape"
   ]
  },
  {
   "cell_type": "code",
   "execution_count": 26,
   "id": "4b7dcd49",
   "metadata": {},
   "outputs": [],
   "source": [
    "from sklearn.model_selection import train_test_split\n",
    "X_train, X_test,y_train, y_test=train_test_split(X,y,test_size=0.2,random_state=2) "
   ]
  },
  {
   "cell_type": "markdown",
   "id": "19ba7e4f",
   "metadata": {},
   "source": [
    "# LinearRegression"
   ]
  },
  {
   "cell_type": "code",
   "execution_count": 81,
   "id": "e9889ea3",
   "metadata": {},
   "outputs": [],
   "source": [
    "from sklearn.linear_model import LinearRegression"
   ]
  },
  {
   "cell_type": "code",
   "execution_count": 82,
   "id": "a1575f0f",
   "metadata": {},
   "outputs": [],
   "source": [
    "regr=LinearRegression()"
   ]
  },
  {
   "cell_type": "code",
   "execution_count": 83,
   "id": "8c13dc77",
   "metadata": {},
   "outputs": [
    {
     "data": {
      "text/plain": [
       "LinearRegression()"
      ]
     },
     "execution_count": 83,
     "metadata": {},
     "output_type": "execute_result"
    }
   ],
   "source": [
    "regr.fit(X_train,y_train)"
   ]
  },
  {
   "cell_type": "code",
   "execution_count": 84,
   "id": "a15a6286",
   "metadata": {},
   "outputs": [],
   "source": [
    "pred=regr.predict(X_test)"
   ]
  },
  {
   "cell_type": "markdown",
   "id": "2ee1c7bf",
   "metadata": {},
   "source": [
    "# LinearRegression efficiency"
   ]
  },
  {
   "cell_type": "code",
   "execution_count": 85,
   "id": "93795212",
   "metadata": {},
   "outputs": [
    {
     "data": {
      "text/plain": [
       "0.9239754126110096"
      ]
     },
     "execution_count": 85,
     "metadata": {},
     "output_type": "execute_result"
    }
   ],
   "source": [
    "regr.score(X_test,y_test)"
   ]
  },
  {
   "cell_type": "markdown",
   "id": "8766cca8",
   "metadata": {},
   "source": [
    "# DecisionTreeClassifier"
   ]
  },
  {
   "cell_type": "code",
   "execution_count": 86,
   "id": "0f5d1d62",
   "metadata": {},
   "outputs": [],
   "source": [
    "from sklearn.tree import DecisionTreeClassifier\n",
    "from sklearn.model_selection import train_test_split\n",
    "\n",
    "tree_model =DecisionTreeClassifier()"
   ]
  },
  {
   "cell_type": "code",
   "execution_count": 87,
   "id": "54e6ba8e",
   "metadata": {},
   "outputs": [
    {
     "data": {
      "text/plain": [
       "DecisionTreeClassifier()"
      ]
     },
     "execution_count": 87,
     "metadata": {},
     "output_type": "execute_result"
    }
   ],
   "source": [
    "tree_model.fit(X_train,y_train)"
   ]
  },
  {
   "cell_type": "code",
   "execution_count": 88,
   "id": "7e34376f",
   "metadata": {},
   "outputs": [],
   "source": [
    "tree_pred=tree_model.predict(X_test)"
   ]
  },
  {
   "cell_type": "markdown",
   "id": "f75a4307",
   "metadata": {},
   "source": [
    "# DecisionTreeClassifier efficiency"
   ]
  },
  {
   "cell_type": "code",
   "execution_count": 89,
   "id": "7e53d46f",
   "metadata": {},
   "outputs": [
    {
     "data": {
      "text/plain": [
       "0.011673151750972763"
      ]
     },
     "execution_count": 89,
     "metadata": {},
     "output_type": "execute_result"
    }
   ],
   "source": [
    "accuracy_score(y_test,tree_pred)\n"
   ]
  },
  {
   "cell_type": "markdown",
   "id": "08884d32",
   "metadata": {},
   "source": [
    "# Gradient Boosting Model"
   ]
  },
  {
   "cell_type": "code",
   "execution_count": 23,
   "id": "f5dd707a",
   "metadata": {},
   "outputs": [],
   "source": [
    "gbm = GradientBoostingRegressor()"
   ]
  },
  {
   "cell_type": "code",
   "execution_count": 27,
   "id": "0fc2ea6a",
   "metadata": {},
   "outputs": [
    {
     "data": {
      "text/plain": [
       "GradientBoostingRegressor()"
      ]
     },
     "execution_count": 27,
     "metadata": {},
     "output_type": "execute_result"
    }
   ],
   "source": [
    "gbm.fit(X_train,y_train)"
   ]
  },
  {
   "cell_type": "markdown",
   "id": "3118d0bc",
   "metadata": {},
   "source": [
    "# Gradient Boosting efficiency"
   ]
  },
  {
   "cell_type": "code",
   "execution_count": 66,
   "id": "ac183702",
   "metadata": {},
   "outputs": [
    {
     "data": {
      "text/plain": [
       "0.9621043297690074"
      ]
     },
     "execution_count": 66,
     "metadata": {},
     "output_type": "execute_result"
    }
   ],
   "source": [
    "gbm.score(X_train,y_train)"
   ]
  },
  {
   "cell_type": "code",
   "execution_count": 86,
   "id": "0e68f684",
   "metadata": {},
   "outputs": [],
   "source": [
    "importance = sorted(list(zip(X_train.columns, list(gbm.feature_importances_))), key=lambda t:t[1], reverse=True)"
   ]
  },
  {
   "cell_type": "code",
   "execution_count": 87,
   "id": "d7384b68",
   "metadata": {},
   "outputs": [],
   "source": [
    "a, b = zip(*importance)\n",
    "importance_score = pd.DataFrame({'feature':a, 'score':b})"
   ]
  },
  {
   "cell_type": "code",
   "execution_count": 94,
   "id": "92ffa1ea",
   "metadata": {},
   "outputs": [],
   "source": [
    "importance_fet = importance_score[importance_score['score'] > 0.01]"
   ]
  },
  {
   "cell_type": "code",
   "execution_count": 95,
   "id": "c4cf335c",
   "metadata": {},
   "outputs": [
    {
     "data": {
      "text/plain": [
       "Text(0.5, 1.0, 'Feature importance of a gbm classifier')"
      ]
     },
     "execution_count": 95,
     "metadata": {},
     "output_type": "execute_result"
    },
    {
     "data": {
      "image/png": "[encoded data removed]",
      "text/plain": [
       "<Figure size 1080x504 with 1 Axes>"
      ]
     },
     "metadata": {
      "needs_background": "light"
     },
     "output_type": "display_data"
    }
   ],
   "source": [
    "#list top 10 importance features for gbm\n",
    "plt.rcParams[\"figure.figsize\"] = (15, 7)\n",
    "importance_fet.plot.bar(x='feature', y='score', legend=None)\n",
    "plt.title('Feature importance of a gbm classifier')"
   ]
  },
  {
   "cell_type": "markdown",
   "id": "a5c49dc2",
   "metadata": {},
   "source": [
    "# Lasso"
   ]
  },
  {
   "cell_type": "code",
   "execution_count": 90,
   "id": "4357645b",
   "metadata": {},
   "outputs": [],
   "source": [
    "from sklearn.linear_model import Lasso \n",
    "lasso=Lasso(alpha=1.0)"
   ]
  },
  {
   "cell_type": "code",
   "execution_count": 91,
   "id": "11efaa20",
   "metadata": {
    "scrolled": true
   },
   "outputs": [
    {
     "name": "stderr",
     "output_type": "stream",
     "text": [
      "C:\\Users\\ask91\\anaconda3\\lib\\site-packages\\sklearn\\linear_model\\_coordinate_descent.py:647: ConvergenceWarning: Objective did not converge. You might want to increase the number of iterations, check the scale of the features or consider increasing regularisation. Duality gap: 2.968e+11, tolerance: 9.615e+08\n",
      "  model = cd_fast.enet_coordinate_descent(\n"
     ]
    },
    {
     "data": {
      "text/plain": [
       "Lasso()"
      ]
     },
     "execution_count": 91,
     "metadata": {},
     "output_type": "execute_result"
    }
   ],
   "source": [
    "lasso.fit(X_train,y_train)"
   ]
  },
  {
   "cell_type": "code",
   "execution_count": 92,
   "id": "20ebadf2",
   "metadata": {},
   "outputs": [],
   "source": [
    "y_pred=lasso.predict(X_test)"
   ]
  },
  {
   "cell_type": "code",
   "execution_count": 94,
   "id": "32bb4eb0",
   "metadata": {},
   "outputs": [
    {
     "name": "stdout",
     "output_type": "stream",
     "text": [
      "Slope: 89.60\n"
     ]
    }
   ],
   "source": [
    "print(\"Slope: %.2f\" % lasso.coef_[0])"
   ]
  },
  {
   "cell_type": "code",
   "execution_count": 95,
   "id": "8e57202e",
   "metadata": {},
   "outputs": [
    {
     "name": "stdout",
     "output_type": "stream",
     "text": [
      "Intercept:-915592.95\n"
     ]
    }
   ],
   "source": [
    "print(\"Intercept:%.2f\"% lasso.intercept_)"
   ]
  },
  {
   "cell_type": "code",
   "execution_count": 96,
   "id": "dd04c2c3",
   "metadata": {},
   "outputs": [
    {
     "data": {
      "text/plain": [
       "405041579.14198077"
      ]
     },
     "execution_count": 96,
     "metadata": {},
     "output_type": "execute_result"
    }
   ],
   "source": [
    "from sklearn.metrics import mean_squared_error\n",
    "mean_squared_error(y_test,y_pred)"
   ]
  },
  {
   "cell_type": "code",
   "execution_count": 97,
   "id": "03c1d302",
   "metadata": {},
   "outputs": [
    {
     "data": {
      "text/plain": [
       "20125.644813073213"
      ]
     },
     "execution_count": 97,
     "metadata": {},
     "output_type": "execute_result"
    }
   ],
   "source": [
    "np.sqrt(mean_squared_error(y_test,y_pred))"
   ]
  },
  {
   "cell_type": "markdown",
   "id": "f8d00518",
   "metadata": {},
   "source": [
    "# DecisionTreeClassifier efficiency"
   ]
  },
  {
   "cell_type": "code",
   "execution_count": 99,
   "id": "e0c531c2",
   "metadata": {},
   "outputs": [
    {
     "name": "stdout",
     "output_type": "stream",
     "text": [
      "Rsquared:0.93\n"
     ]
    }
   ],
   "source": [
    "print(\"Rsquared:%.2f\" % lasso.score(X_test,y_test))"
   ]
  },
  {
   "cell_type": "code",
   "execution_count": 100,
   "id": "6d3f0d26",
   "metadata": {},
   "outputs": [],
   "source": [
    "def display_R2_scores(model, X_train, y_train, X_test, y_test):\n",
    "    print(f'The mean cross validation score for {model} is {round(cross_val_score(model, X_train, y_train).mean(),4)}')\n",
    "    print(f'The training score is {round(model.score(X_train, y_train), 4)}')\n",
    "    print(f'The testing score is {round(model.score(X_test, y_test),4)}')\n",
    "    print(f'The number of features is : {np.sum(model.coef_ != 0)}')"
   ]
  },
  {
   "cell_type": "code",
   "execution_count": 101,
   "id": "8134d4fb",
   "metadata": {
    "scrolled": true
   },
   "outputs": [
    {
     "name": "stderr",
     "output_type": "stream",
     "text": [
      "C:\\Users\\ask91\\anaconda3\\lib\\site-packages\\sklearn\\linear_model\\_coordinate_descent.py:647: ConvergenceWarning: Objective did not converge. You might want to increase the number of iterations, check the scale of the features or consider increasing regularisation. Duality gap: 2.929e+11, tolerance: 9.615e+08\n",
      "  model = cd_fast.enet_coordinate_descent(\n",
      "C:\\Users\\ask91\\anaconda3\\lib\\site-packages\\sklearn\\linear_model\\_coordinate_descent.py:647: ConvergenceWarning: Objective did not converge. You might want to increase the number of iterations, check the scale of the features or consider increasing regularisation. Duality gap: 2.256e+11, tolerance: 7.623e+08\n",
      "  model = cd_fast.enet_coordinate_descent(\n",
      "C:\\Users\\ask91\\anaconda3\\lib\\site-packages\\sklearn\\linear_model\\_coordinate_descent.py:647: ConvergenceWarning: Objective did not converge. You might want to increase the number of iterations, check the scale of the features or consider increasing regularisation. Duality gap: 2.171e+11, tolerance: 7.317e+08\n",
      "  model = cd_fast.enet_coordinate_descent(\n",
      "C:\\Users\\ask91\\anaconda3\\lib\\site-packages\\sklearn\\linear_model\\_coordinate_descent.py:647: ConvergenceWarning: Objective did not converge. You might want to increase the number of iterations, check the scale of the features or consider increasing regularisation. Duality gap: 2.325e+11, tolerance: 7.702e+08\n",
      "  model = cd_fast.enet_coordinate_descent(\n",
      "C:\\Users\\ask91\\anaconda3\\lib\\site-packages\\sklearn\\linear_model\\_coordinate_descent.py:647: ConvergenceWarning: Objective did not converge. You might want to increase the number of iterations, check the scale of the features or consider increasing regularisation. Duality gap: 2.220e+11, tolerance: 7.949e+08\n",
      "  model = cd_fast.enet_coordinate_descent(\n",
      "C:\\Users\\ask91\\anaconda3\\lib\\site-packages\\sklearn\\linear_model\\_coordinate_descent.py:647: ConvergenceWarning: Objective did not converge. You might want to increase the number of iterations, check the scale of the features or consider increasing regularisation. Duality gap: 2.276e+11, tolerance: 7.859e+08\n",
      "  model = cd_fast.enet_coordinate_descent(\n"
     ]
    },
    {
     "name": "stdout",
     "output_type": "stream",
     "text": [
      "The mean cross validation score for Lasso(alpha=0.0002) is 0.9108\n",
      "The training score is 0.9391\n",
      "The testing score is 0.9242\n",
      "The number of features is : 289\n"
     ]
    }
   ],
   "source": [
    "lasso = Lasso(alpha = 0.0002)\n",
    "lasso.fit(X_train, y_train);\n",
    "\n",
    "\n",
    "display_R2_scores(lasso, X_train, y_train, X_test, y_test)"
   ]
  },
  {
   "cell_type": "code",
   "execution_count": 102,
   "id": "e36678cd",
   "metadata": {},
   "outputs": [],
   "source": [
    "ss = StandardScaler()\n",
    "ss.fit(X_train)\n",
    "\n",
    "X_train_scaled = ss.transform(X_train)\n",
    "X_test_scaled = ss.transform(X_test)"
   ]
  },
  {
   "cell_type": "code",
   "execution_count": 103,
   "id": "6a52e862",
   "metadata": {},
   "outputs": [
    {
     "data": {
      "text/plain": [
       "Text(0.5, 1.0, 'Predictions of Sale Price vs Actual Sale Price')"
      ]
     },
     "execution_count": 103,
     "metadata": {},
     "output_type": "execute_result"
    },
    {
     "data": {
      "image/png": "[encoded data removed]",
      "text/plain": [
       "<Figure size 720x576 with 1 Axes>"
      ]
     },
     "metadata": {
      "needs_background": "light"
     },
     "output_type": "display_data"
    }
   ],
   "source": [
    "lasso_predict = lasso.predict(X_test)\n",
    "\n",
    "plt.figure(figsize=(10,8))\n",
    "sns.regplot(data=X_train_scaled, x=lasso_predict, y=y_test, marker='x', color='skyblue', line_kws={'color':'black'})\n",
    "plt.xlabel('Predicted Sale Price', fontsize=14)\n",
    "plt.ylabel('Actual Sale Price', fontsize=14)\n",
    "plt.title('Predictions of Sale Price vs Actual Sale Price', fontsize=22)"
   ]
  },
  {
   "cell_type": "code",
   "execution_count": 60,
   "id": "483c2df8",
   "metadata": {
    "scrolled": true
   },
   "outputs": [
    {
     "data": {
      "image/png": "[encoded data removed]",
      "text/plain": [
       "<Figure size 864x720 with 1 Axes>"
      ]
     },
     "metadata": {
      "needs_background": "light"
     },
     "output_type": "display_data"
    }
   ],
   "source": [
    "lasso_df = pd.DataFrame(columns=['Feature', 'Coef', 'Abs Coef'])\n",
    "lasso_df['Abs Coef'] = abs(lasso.coef_)\n",
    "lasso_df['Coef'] = lasso.coef_\n",
    "lasso_df['Feature'] = X.columns \n",
    "\n",
    "# Plot top 30 features (sorted by absolute regression coefficient)\n",
    "plt.figure(figsize=(12,10))\n",
    "data = lasso_df.sort_values(by='Abs Coef', ascending=False).head(30)[['Feature', 'Coef']] \\\n",
    "               .sort_values(by='Coef', ascending=False).reset_index(drop=True)\n",
    "    \n",
    "ax = sns.barplot(data=data, y='Feature', x='Coef', orient='h', palette='Spectral')\n",
    "ax.set_ylabel('')\n",
    "ax.set_yticklabels(data['Feature'], size=11)\n",
    "ax.set_xlabel('Lasso Regression Coefficient', fontsize=14)\n",
    "plt.title('Top 15 Housing Features', fontsize=20);"
   ]
  },
  {
   "cell_type": "code",
   "execution_count": 104,
   "id": "4f554dd5",
   "metadata": {},
   "outputs": [
    {
     "name": "stdout",
     "output_type": "stream",
     "text": [
      "The mean cross validation score for Ridge(alpha=10222) is 0.8322\n",
      "The training score is 0.8446\n",
      "The testing score is 0.8575\n",
      "The number of features is : 290\n"
     ]
    }
   ],
   "source": [
    "ridge = Ridge(alpha = 10222) # To improve my Ridge, I manually adjusted the alpha score; the Ridge CV returned smaller alphas (even if the upper limit was increased) \n",
    "ridge = ridge.fit(X_train, y_train)\n",
    "\n",
    "\n",
    "display_R2_scores(ridge, X_train, y_train, X_test, y_test)"
   ]
  },
  {
   "cell_type": "code",
   "execution_count": null,
   "id": "f9a65500",
   "metadata": {},
   "outputs": [],
   "source": []
  }
 ],
 "metadata": {
  "kernelspec": {
   "display_name": "Python 3 (ipykernel)",
   "language": "python",
   "name": "python3"
  },
  "language_info": {
   "codemirror_mode": {
    "name": "ipython",
    "version": 3
   },
   "file_extension": ".py",
   "mimetype": "text/x-python",
   "name": "python",
   "nbconvert_exporter": "python",
   "pygments_lexer": "ipython3",
   "version": "3.9.12"
  }
 },
 "nbformat": 4,
 "nbformat_minor": 5
}
